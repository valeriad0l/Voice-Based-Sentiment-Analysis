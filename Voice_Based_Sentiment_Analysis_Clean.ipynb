{
  "cells": [
    {
      "cell_type": "markdown",
      "metadata": {
        "id": "view-in-github",
        "colab_type": "text"
      },
      "source": [
        "<a href=\"https://colab.research.google.com/github/valeriad0l/Voice-Based-Sentiment-Analysis/blob/main/Voice_Based_Sentiment_Analysis_Clean.ipynb\" target=\"_parent\"><img src=\"https://colab.research.google.com/assets/colab-badge.svg\" alt=\"Open In Colab\"/></a>"
      ]
    },
    {
      "cell_type": "markdown",
      "metadata": {
        "id": "VnAmF6dDOLWS"
      },
      "source": [
        "# Voice-Based Sentiment Analysis using RAVDESS Dataset"
      ],
      "id": "VnAmF6dDOLWS"
    },
    {
      "cell_type": "code",
      "execution_count": null,
      "metadata": {
        "id": "MQCXbkWbOLWU"
      },
      "outputs": [],
      "source": [
        "!pip install librosa pydub matplotlib seaborn scikit-learn --quiet"
      ],
      "id": "MQCXbkWbOLWU"
    },
    {
      "cell_type": "code",
      "execution_count": null,
      "metadata": {
        "id": "_-LIv72dOLWU"
      },
      "outputs": [],
      "source": [
        "import librosa\n",
        "import librosa.display\n",
        "import matplotlib.pyplot as plt\n",
        "import seaborn as sns\n",
        "import numpy as np\n",
        "import pandas as pd\n",
        "from sklearn.model_selection import train_test_split\n",
        "from tqdm import tqdm\n",
        "import os\n",
        "from tensorflow.keras.utils import to_categorical\n",
        "from tensorflow import keras\n",
        "from tensorflow.keras import layers\n",
        "from sklearn.metrics import classification_report, confusion_matrix"
      ],
      "id": "_-LIv72dOLWU"
    },
    {
      "cell_type": "code",
      "execution_count": null,
      "metadata": {
        "colab": {
          "base_uri": "https://localhost:8080/",
          "height": 108
        },
        "id": "IsImg-HvOLWU",
        "outputId": "dd456dfb-03f1-467e-aff2-3561ee5ab7a1"
      },
      "outputs": [
        {
          "output_type": "display_data",
          "data": {
            "text/plain": [
              "<IPython.core.display.HTML object>"
            ],
            "text/html": [
              "\n",
              "     <input type=\"file\" id=\"files-e57a8916-f877-4153-ad0b-108c81865e16\" name=\"files[]\" multiple disabled\n",
              "        style=\"border:none\" />\n",
              "     <output id=\"result-e57a8916-f877-4153-ad0b-108c81865e16\">\n",
              "      Upload widget is only available when the cell has been executed in the\n",
              "      current browser session. Please rerun this cell to enable.\n",
              "      </output>\n",
              "      <script>// Copyright 2017 Google LLC\n",
              "//\n",
              "// Licensed under the Apache License, Version 2.0 (the \"License\");\n",
              "// you may not use this file except in compliance with the License.\n",
              "// You may obtain a copy of the License at\n",
              "//\n",
              "//      http://www.apache.org/licenses/LICENSE-2.0\n",
              "//\n",
              "// Unless required by applicable law or agreed to in writing, software\n",
              "// distributed under the License is distributed on an \"AS IS\" BASIS,\n",
              "// WITHOUT WARRANTIES OR CONDITIONS OF ANY KIND, either express or implied.\n",
              "// See the License for the specific language governing permissions and\n",
              "// limitations under the License.\n",
              "\n",
              "/**\n",
              " * @fileoverview Helpers for google.colab Python module.\n",
              " */\n",
              "(function(scope) {\n",
              "function span(text, styleAttributes = {}) {\n",
              "  const element = document.createElement('span');\n",
              "  element.textContent = text;\n",
              "  for (const key of Object.keys(styleAttributes)) {\n",
              "    element.style[key] = styleAttributes[key];\n",
              "  }\n",
              "  return element;\n",
              "}\n",
              "\n",
              "// Max number of bytes which will be uploaded at a time.\n",
              "const MAX_PAYLOAD_SIZE = 100 * 1024;\n",
              "\n",
              "function _uploadFiles(inputId, outputId) {\n",
              "  const steps = uploadFilesStep(inputId, outputId);\n",
              "  const outputElement = document.getElementById(outputId);\n",
              "  // Cache steps on the outputElement to make it available for the next call\n",
              "  // to uploadFilesContinue from Python.\n",
              "  outputElement.steps = steps;\n",
              "\n",
              "  return _uploadFilesContinue(outputId);\n",
              "}\n",
              "\n",
              "// This is roughly an async generator (not supported in the browser yet),\n",
              "// where there are multiple asynchronous steps and the Python side is going\n",
              "// to poll for completion of each step.\n",
              "// This uses a Promise to block the python side on completion of each step,\n",
              "// then passes the result of the previous step as the input to the next step.\n",
              "function _uploadFilesContinue(outputId) {\n",
              "  const outputElement = document.getElementById(outputId);\n",
              "  const steps = outputElement.steps;\n",
              "\n",
              "  const next = steps.next(outputElement.lastPromiseValue);\n",
              "  return Promise.resolve(next.value.promise).then((value) => {\n",
              "    // Cache the last promise value to make it available to the next\n",
              "    // step of the generator.\n",
              "    outputElement.lastPromiseValue = value;\n",
              "    return next.value.response;\n",
              "  });\n",
              "}\n",
              "\n",
              "/**\n",
              " * Generator function which is called between each async step of the upload\n",
              " * process.\n",
              " * @param {string} inputId Element ID of the input file picker element.\n",
              " * @param {string} outputId Element ID of the output display.\n",
              " * @return {!Iterable<!Object>} Iterable of next steps.\n",
              " */\n",
              "function* uploadFilesStep(inputId, outputId) {\n",
              "  const inputElement = document.getElementById(inputId);\n",
              "  inputElement.disabled = false;\n",
              "\n",
              "  const outputElement = document.getElementById(outputId);\n",
              "  outputElement.innerHTML = '';\n",
              "\n",
              "  const pickedPromise = new Promise((resolve) => {\n",
              "    inputElement.addEventListener('change', (e) => {\n",
              "      resolve(e.target.files);\n",
              "    });\n",
              "  });\n",
              "\n",
              "  const cancel = document.createElement('button');\n",
              "  inputElement.parentElement.appendChild(cancel);\n",
              "  cancel.textContent = 'Cancel upload';\n",
              "  const cancelPromise = new Promise((resolve) => {\n",
              "    cancel.onclick = () => {\n",
              "      resolve(null);\n",
              "    };\n",
              "  });\n",
              "\n",
              "  // Wait for the user to pick the files.\n",
              "  const files = yield {\n",
              "    promise: Promise.race([pickedPromise, cancelPromise]),\n",
              "    response: {\n",
              "      action: 'starting',\n",
              "    }\n",
              "  };\n",
              "\n",
              "  cancel.remove();\n",
              "\n",
              "  // Disable the input element since further picks are not allowed.\n",
              "  inputElement.disabled = true;\n",
              "\n",
              "  if (!files) {\n",
              "    return {\n",
              "      response: {\n",
              "        action: 'complete',\n",
              "      }\n",
              "    };\n",
              "  }\n",
              "\n",
              "  for (const file of files) {\n",
              "    const li = document.createElement('li');\n",
              "    li.append(span(file.name, {fontWeight: 'bold'}));\n",
              "    li.append(span(\n",
              "        `(${file.type || 'n/a'}) - ${file.size} bytes, ` +\n",
              "        `last modified: ${\n",
              "            file.lastModifiedDate ? file.lastModifiedDate.toLocaleDateString() :\n",
              "                                    'n/a'} - `));\n",
              "    const percent = span('0% done');\n",
              "    li.appendChild(percent);\n",
              "\n",
              "    outputElement.appendChild(li);\n",
              "\n",
              "    const fileDataPromise = new Promise((resolve) => {\n",
              "      const reader = new FileReader();\n",
              "      reader.onload = (e) => {\n",
              "        resolve(e.target.result);\n",
              "      };\n",
              "      reader.readAsArrayBuffer(file);\n",
              "    });\n",
              "    // Wait for the data to be ready.\n",
              "    let fileData = yield {\n",
              "      promise: fileDataPromise,\n",
              "      response: {\n",
              "        action: 'continue',\n",
              "      }\n",
              "    };\n",
              "\n",
              "    // Use a chunked sending to avoid message size limits. See b/62115660.\n",
              "    let position = 0;\n",
              "    do {\n",
              "      const length = Math.min(fileData.byteLength - position, MAX_PAYLOAD_SIZE);\n",
              "      const chunk = new Uint8Array(fileData, position, length);\n",
              "      position += length;\n",
              "\n",
              "      const base64 = btoa(String.fromCharCode.apply(null, chunk));\n",
              "      yield {\n",
              "        response: {\n",
              "          action: 'append',\n",
              "          file: file.name,\n",
              "          data: base64,\n",
              "        },\n",
              "      };\n",
              "\n",
              "      let percentDone = fileData.byteLength === 0 ?\n",
              "          100 :\n",
              "          Math.round((position / fileData.byteLength) * 100);\n",
              "      percent.textContent = `${percentDone}% done`;\n",
              "\n",
              "    } while (position < fileData.byteLength);\n",
              "  }\n",
              "\n",
              "  // All done.\n",
              "  yield {\n",
              "    response: {\n",
              "      action: 'complete',\n",
              "    }\n",
              "  };\n",
              "}\n",
              "\n",
              "scope.google = scope.google || {};\n",
              "scope.google.colab = scope.google.colab || {};\n",
              "scope.google.colab._files = {\n",
              "  _uploadFiles,\n",
              "  _uploadFilesContinue,\n",
              "};\n",
              "})(self);\n",
              "</script> "
            ]
          },
          "metadata": {}
        },
        {
          "output_type": "stream",
          "name": "stdout",
          "text": [
            "Saving kaggle.json to kaggle.json\n",
            "Dataset URL: https://www.kaggle.com/datasets/uwrfkaggler/ravdess-emotional-speech-audio\n",
            "License(s): CC-BY-NC-SA-4.0\n"
          ]
        }
      ],
      "source": [
        "# Kaggle setup\n",
        "from google.colab import files\n",
        "files.upload()  # Upload your kaggle.json here\n",
        "\n",
        "!mkdir -p ~/.kaggle\n",
        "!cp kaggle.json ~/.kaggle/\n",
        "!chmod 600 ~/.kaggle/kaggle.json\n",
        "!kaggle datasets download -d uwrfkaggler/ravdess-emotional-speech-audio"
      ],
      "id": "IsImg-HvOLWU"
    },
    {
      "cell_type": "code",
      "execution_count": null,
      "metadata": {
        "id": "KATHlg0GOLWV"
      },
      "outputs": [],
      "source": [
        "import zipfile\n",
        "with zipfile.ZipFile(\"ravdess-emotional-speech-audio.zip\", 'r') as zip_ref:\n",
        "    zip_ref.extractall(\"ravdess_data\")"
      ],
      "id": "KATHlg0GOLWV"
    },
    {
      "cell_type": "code",
      "execution_count": null,
      "metadata": {
        "colab": {
          "base_uri": "https://localhost:8080/"
        },
        "id": "LIrlv-5bOLWV",
        "outputId": "88bc8715-bde0-496a-8e0a-1934530e51c0"
      },
      "outputs": [
        {
          "output_type": "stream",
          "name": "stdout",
          "text": [
            "Total usable files: 960\n",
            "label\n",
            "sad        384\n",
            "happy      384\n",
            "neutral    192\n",
            "Name: count, dtype: int64\n"
          ]
        }
      ],
      "source": [
        "# Step 1: Preprocess labels from filenames\n",
        "emotion_map = {\n",
        "    '01': 'neutral',\n",
        "    '03': 'happy',\n",
        "    '04': 'sad'\n",
        "}\n",
        "\n",
        "filepaths, emotions = [], []\n",
        "for root, dirs, files in os.walk(\"ravdess_data\"):\n",
        "    for file in files:\n",
        "        if file.endswith(\".wav\"):\n",
        "            parts = file.split('-')\n",
        "            emotion_code = parts[2]\n",
        "            if emotion_code in emotion_map:\n",
        "                filepaths.append(os.path.join(root, file))\n",
        "                emotions.append(emotion_map[emotion_code])\n",
        "\n",
        "df = pd.DataFrame({'file': filepaths, 'label': emotions})\n",
        "print(f\"Total usable files: {len(df)}\")\n",
        "print(df['label'].value_counts())"
      ],
      "id": "LIrlv-5bOLWV"
    },
    {
      "cell_type": "code",
      "execution_count": null,
      "metadata": {
        "id": "qV1FGPfaOLWV"
      },
      "outputs": [],
      "source": [
        "# Step 2: Convert audio to mel spectrograms with optional augmentation\n",
        "def audio_to_mel_spectrogram(file_path, n_mels=128, max_len=128, augment=False):\n",
        "    y, sr = librosa.load(file_path, sr=None)\n",
        "    if augment:\n",
        "        if np.random.rand() < 0.5:\n",
        "            y = librosa.effects.pitch_shift(y, sr, n_steps=np.random.uniform(-2, 2))\n",
        "        if np.random.rand() < 0.5:\n",
        "            y = librosa.effects.time_stretch(y, rate=np.random.uniform(0.9, 1.1))\n",
        "\n",
        "    mel = librosa.feature.melspectrogram(y=y, sr=sr, n_mels=n_mels)\n",
        "    mel_db = librosa.power_to_db(mel, ref=np.max)\n",
        "\n",
        "    if mel_db.shape[1] < max_len:\n",
        "        pad_width = max_len - mel_db.shape[1]\n",
        "        mel_db = np.pad(mel_db, pad_width=((0, 0), (0, pad_width)), mode='constant')\n",
        "    else:\n",
        "        mel_db = mel_db[:, :max_len]\n",
        "\n",
        "    return mel_db"
      ],
      "id": "qV1FGPfaOLWV"
    },
    {
      "cell_type": "code",
      "execution_count": null,
      "metadata": {
        "colab": {
          "base_uri": "https://localhost:8080/"
        },
        "id": "_cJERNGrOLWV",
        "outputId": "9e98d422-8cee-4ff7-f059-dcf77ace6b70"
      },
      "outputs": [
        {
          "output_type": "stream",
          "name": "stderr",
          "text": [
            "100%|██████████| 960/960 [00:32<00:00, 29.10it/s]\n"
          ]
        }
      ],
      "source": [
        "# Step 3: Prepare X and y\n",
        "label_to_index = {'happy': 0, 'sad': 1, 'neutral': 2}\n",
        "X, y = [], []\n",
        "\n",
        "for i, row in tqdm(df.iterrows(), total=len(df)):\n",
        "    mel = audio_to_mel_spectrogram(row['file'])\n",
        "    X.append(mel)\n",
        "    y.append(label_to_index[row['label']])\n",
        "\n",
        "X = np.array(X)[..., np.newaxis]  # (num_samples, 128, 128, 1)\n",
        "y = to_categorical(np.array(y), num_classes=3)"
      ],
      "id": "_cJERNGrOLWV"
    },
    {
      "cell_type": "code",
      "execution_count": null,
      "metadata": {
        "id": "d2CrhiUUOLWW"
      },
      "outputs": [],
      "source": [
        "# Step 4: Train/Test split\n",
        "X_train, X_test, y_train, y_test = train_test_split(\n",
        "    X, y, test_size=0.2, stratify=y, random_state=42)"
      ],
      "id": "d2CrhiUUOLWW"
    },
    {
      "cell_type": "code",
      "execution_count": null,
      "metadata": {
        "colab": {
          "base_uri": "https://localhost:8080/"
        },
        "id": "TqIWyDCGOLWW",
        "outputId": "e629b26a-4f9d-4b9a-f697-307858011a54"
      },
      "outputs": [
        {
          "output_type": "stream",
          "name": "stdout",
          "text": [
            "Epoch 1/20\n",
            "\u001b[1m24/24\u001b[0m \u001b[32m━━━━━━━━━━━━━━━━━━━━\u001b[0m\u001b[37m\u001b[0m \u001b[1m6s\u001b[0m 52ms/step - accuracy: 0.3390 - loss: 22.7162 - val_accuracy: 0.4583 - val_loss: 1.0343\n",
            "Epoch 2/20\n",
            "\u001b[1m24/24\u001b[0m \u001b[32m━━━━━━━━━━━━━━━━━━━━\u001b[0m\u001b[37m\u001b[0m \u001b[1m0s\u001b[0m 17ms/step - accuracy: 0.4764 - loss: 1.0851 - val_accuracy: 0.5729 - val_loss: 1.0432\n",
            "Epoch 3/20\n",
            "\u001b[1m24/24\u001b[0m \u001b[32m━━━━━━━━━━━━━━━━━━━━\u001b[0m\u001b[37m\u001b[0m \u001b[1m0s\u001b[0m 16ms/step - accuracy: 0.5754 - loss: 1.0009 - val_accuracy: 0.5781 - val_loss: 0.9115\n",
            "Epoch 4/20\n",
            "\u001b[1m24/24\u001b[0m \u001b[32m━━━━━━━━━━━━━━━━━━━━\u001b[0m\u001b[37m\u001b[0m \u001b[1m1s\u001b[0m 16ms/step - accuracy: 0.6400 - loss: 0.8831 - val_accuracy: 0.6146 - val_loss: 0.8561\n",
            "Epoch 5/20\n",
            "\u001b[1m24/24\u001b[0m \u001b[32m━━━━━━━━━━━━━━━━━━━━\u001b[0m\u001b[37m\u001b[0m \u001b[1m0s\u001b[0m 16ms/step - accuracy: 0.6895 - loss: 0.7155 - val_accuracy: 0.6510 - val_loss: 0.7989\n",
            "Epoch 6/20\n",
            "\u001b[1m24/24\u001b[0m \u001b[32m━━━━━━━━━━━━━━━━━━━━\u001b[0m\u001b[37m\u001b[0m \u001b[1m0s\u001b[0m 17ms/step - accuracy: 0.7800 - loss: 0.6078 - val_accuracy: 0.6615 - val_loss: 0.7548\n",
            "Epoch 7/20\n",
            "\u001b[1m24/24\u001b[0m \u001b[32m━━━━━━━━━━━━━━━━━━━━\u001b[0m\u001b[37m\u001b[0m \u001b[1m0s\u001b[0m 17ms/step - accuracy: 0.8149 - loss: 0.4510 - val_accuracy: 0.8021 - val_loss: 0.5420\n",
            "Epoch 8/20\n",
            "\u001b[1m24/24\u001b[0m \u001b[32m━━━━━━━━━━━━━━━━━━━━\u001b[0m\u001b[37m\u001b[0m \u001b[1m1s\u001b[0m 16ms/step - accuracy: 0.9443 - loss: 0.2168 - val_accuracy: 0.8542 - val_loss: 0.4120\n",
            "Epoch 9/20\n",
            "\u001b[1m24/24\u001b[0m \u001b[32m━━━━━━━━━━━━━━━━━━━━\u001b[0m\u001b[37m\u001b[0m \u001b[1m0s\u001b[0m 16ms/step - accuracy: 0.9679 - loss: 0.1086 - val_accuracy: 0.8594 - val_loss: 0.3587\n",
            "Epoch 10/20\n",
            "\u001b[1m24/24\u001b[0m \u001b[32m━━━━━━━━━━━━━━━━━━━━\u001b[0m\u001b[37m\u001b[0m \u001b[1m1s\u001b[0m 16ms/step - accuracy: 0.9816 - loss: 0.0709 - val_accuracy: 0.9271 - val_loss: 0.2925\n",
            "Epoch 11/20\n",
            "\u001b[1m24/24\u001b[0m \u001b[32m━━━━━━━━━━━━━━━━━━━━\u001b[0m\u001b[37m\u001b[0m \u001b[1m0s\u001b[0m 18ms/step - accuracy: 0.9970 - loss: 0.0281 - val_accuracy: 0.9271 - val_loss: 0.2499\n",
            "Epoch 12/20\n",
            "\u001b[1m24/24\u001b[0m \u001b[32m━━━━━━━━━━━━━━━━━━━━\u001b[0m\u001b[37m\u001b[0m \u001b[1m1s\u001b[0m 18ms/step - accuracy: 1.0000 - loss: 0.0127 - val_accuracy: 0.9167 - val_loss: 0.2880\n",
            "Epoch 13/20\n",
            "\u001b[1m24/24\u001b[0m \u001b[32m━━━━━━━━━━━━━━━━━━━━\u001b[0m\u001b[37m\u001b[0m \u001b[1m1s\u001b[0m 19ms/step - accuracy: 1.0000 - loss: 0.0073 - val_accuracy: 0.9167 - val_loss: 0.3187\n",
            "Epoch 14/20\n",
            "\u001b[1m24/24\u001b[0m \u001b[32m━━━━━━━━━━━━━━━━━━━━\u001b[0m\u001b[37m\u001b[0m \u001b[1m1s\u001b[0m 17ms/step - accuracy: 1.0000 - loss: 0.0035 - val_accuracy: 0.9167 - val_loss: 0.3077\n"
          ]
        }
      ],
      "source": [
        "# Step 5: CNN Model\n",
        "model = keras.Sequential([\n",
        "    layers.Input(shape=(128, 128, 1)),\n",
        "    layers.Conv2D(32, (3, 3), activation='relu'),\n",
        "    layers.MaxPooling2D((2, 2)),\n",
        "    layers.Conv2D(64, (3, 3), activation='relu'),\n",
        "    layers.MaxPooling2D((2, 2)),\n",
        "    layers.Flatten(),\n",
        "    layers.Dense(64, activation='relu'),\n",
        "    layers.Dense(3, activation='softmax')\n",
        "])\n",
        "\n",
        "model.compile(optimizer='adam', loss='categorical_crossentropy', metrics=['accuracy'])\n",
        "\n",
        "history = model.fit(\n",
        "    X_train, y_train,\n",
        "    validation_data=(X_test, y_test),\n",
        "    epochs=20,\n",
        "    batch_size=32,\n",
        "    callbacks=[keras.callbacks.EarlyStopping(patience=3, restore_best_weights=True)]\n",
        ")"
      ],
      "id": "TqIWyDCGOLWW"
    },
    {
      "cell_type": "code",
      "execution_count": null,
      "metadata": {
        "colab": {
          "base_uri": "https://localhost:8080/",
          "height": 663
        },
        "id": "Yp7sL22COLWW",
        "outputId": "30e77f65-8e3c-4784-d99e-6cf32680b93a"
      },
      "outputs": [
        {
          "output_type": "stream",
          "name": "stdout",
          "text": [
            "\u001b[1m6/6\u001b[0m \u001b[32m━━━━━━━━━━━━━━━━━━━━\u001b[0m\u001b[37m\u001b[0m \u001b[1m0s\u001b[0m 7ms/step  \n",
            "              precision    recall  f1-score   support\n",
            "\n",
            "           0       0.92      0.95      0.94        77\n",
            "           1       0.95      0.92      0.93        77\n",
            "           2       0.89      0.89      0.89        38\n",
            "\n",
            "    accuracy                           0.93       192\n",
            "   macro avg       0.92      0.92      0.92       192\n",
            "weighted avg       0.93      0.93      0.93       192\n",
            "\n"
          ]
        },
        {
          "output_type": "display_data",
          "data": {
            "text/plain": [
              "<Figure size 640x480 with 2 Axes>"
            ],
            "image/png": "[encoded data removed]"
          },
          "metadata": {}
        }
      ],
      "source": [
        "# Step 6: Evaluation\n",
        "y_pred = model.predict(X_test)\n",
        "y_pred_labels = np.argmax(y_pred, axis=1)\n",
        "y_true = np.argmax(y_test, axis=1)\n",
        "\n",
        "print(classification_report(y_true, y_pred_labels))\n",
        "\n",
        "cm = confusion_matrix(y_true, y_pred_labels)\n",
        "sns.heatmap(cm, annot=True, fmt='d', cmap='Blues')\n",
        "plt.xlabel(\"Predicted\")\n",
        "plt.ylabel(\"True\")\n",
        "plt.title(\"Confusion Matrix\")\n",
        "plt.show()"
      ],
      "id": "Yp7sL22COLWW"
    }
  ],
  "metadata": {
    "kernelspec": {
      "display_name": "Python 3",
      "name": "python3"
    },
    "language_info": {
      "name": "python",
      "version": "3.11"
    },
    "colab": {
      "provenance": [],
      "gpuType": "T4",
      "include_colab_link": true
    },
    "accelerator": "GPU"
  },
  "nbformat": 4,
  "nbformat_minor": 5
}